{
 "cells": [
  {
   "cell_type": "markdown",
   "metadata": {},
   "source": [
    "# Assignment"
   ]
  },
  {
   "cell_type": "markdown",
   "metadata": {},
   "source": [
    "In this assignment, you'll create a Python script to perform a sentiment analysis of the Twitter activity of various news oulets, and to present your findings visually.\n",
    "\n",
    "Your final output should provide a visualized summary of the sentiments expressed in Tweets sent out by the following news organizations: BBC, CBS, CNN, Fox, and New York times."
   ]
  },
  {
   "cell_type": "markdown",
   "metadata": {},
   "source": [
    "# Analysis"
   ]
  },
  {
   "cell_type": "markdown",
   "metadata": {},
   "source": [
    "1. From reviewing the sentiments of the news organizations, it is apparrant that CBS leans towards being positive in it's tweets compared to others. \n",
    "2. Fox news has a negative sentiment, though not too negative. This indicates that they have a fairly even distribution of positive, negative, and neutral sentiments. \n",
    "3. CBS has a large gap of tweets between its first and last, indicating, that they do not tweet as frequently as the others. This could lead to a skew of CBS leaning towards positive. "
   ]
  },
  {
   "cell_type": "code",
   "execution_count": 1,
   "metadata": {
    "collapsed": true
   },
   "outputs": [],
   "source": [
    "#dependencies\n",
    "import tweepy #pip install tweepy\n",
    "import pandas as pd\n",
    "import numpy as np\n",
    "import matplotlib.pyplot as plt\n",
    "from datetime import datetime, timezone"
   ]
  },
  {
   "cell_type": "code",
   "execution_count": 2,
   "metadata": {},
   "outputs": [
    {
     "name": "stdout",
     "output_type": "stream",
     "text": [
      "{\n",
      "    \"twitter\": {\n",
      "        \"access_token\": \"942946542209474561-KkJgsxXMBJRE1JkGxHdQw0mblX4Ahht\",\n",
      "        \"access_token_secret\": \"Nf1p8w9xeBJ8kOFCo3hM8MmR6iFBd0Q8XKLTdzfTskf9d\",\n",
      "        \"consumer_key\": \"eVPxS1ESzxNuO2J89vkqRepgw\",\n",
      "        \"consumer_secret\": \"MjrNSnKPLzkxclE3csYavEDEFKzqsSJWAIoZOMGWtzmZF63N3G\"\n",
      "    }\n",
      "}\n",
      "eVPxS1ESzxNuO2J89vkqRepgw\n"
     ]
    }
   ],
   "source": [
    "# YAML stuff\n",
    "import yaml\n",
    "TWITTER_CONFIG_FILE = 'auth.yaml'\n",
    "\n",
    "with open(TWITTER_CONFIG_FILE, 'r') as config_file:\n",
    "    config = yaml.load(config_file)\n",
    "    \n",
    "# print(type(config))\n",
    "import json\n",
    "\n",
    "print(json.dumps(config, indent=4, sort_keys=True))\n",
    "consumer_key = config['twitter']['consumer_key']\n",
    "print(consumer_key)"
   ]
  },
  {
   "cell_type": "code",
   "execution_count": 3,
   "metadata": {
    "collapsed": true
   },
   "outputs": [],
   "source": [
    "#sentiment analyzer #pip install vaderSentiment==2.5\n",
    "from vaderSentiment.vaderSentiment import SentimentIntensityAnalyzer\n",
    "analyzer = SentimentIntensityAnalyzer()"
   ]
  },
  {
   "cell_type": "code",
   "execution_count": 4,
   "metadata": {
    "collapsed": true
   },
   "outputs": [],
   "source": [
    "#twitter API keys\n",
    "consumer_key = config['twitter']['consumer_key']\n",
    "consumer_secret = config['twitter']['consumer_secret']\n",
    "access_token = config['twitter']['access_token']\n",
    "access_token_secret = config['twitter']['access_token_secret']"
   ]
  },
  {
   "cell_type": "code",
   "execution_count": 5,
   "metadata": {
    "collapsed": true
   },
   "outputs": [],
   "source": [
    "#tweepy API Authentication\n",
    "auth = tweepy.OAuthHandler(consumer_key,consumer_secret)\n",
    "auth.set_access_token(access_token,access_token_secret)\n",
    "api = tweepy.API(auth,parser=tweepy.parsers.JSONParser())"
   ]
  },
  {
   "cell_type": "code",
   "execution_count": 6,
   "metadata": {
    "collapsed": true
   },
   "outputs": [],
   "source": [
    "#dictionary of twitter SNs, network names, and colors for graphs\n",
    "#BBC, CBS, CNN, Fox, and New York times\n",
    "news_labels = {'BBC': \n",
    "                   {'name': 'BBC', \n",
    "                    'color': 'lightblue'}, \n",
    "               'CBS': \n",
    "                   {'name': 'CBS', \n",
    "                    'color': 'green'},\n",
    "               'CNN': \n",
    "                   {'name': 'CNN', \n",
    "                    'color': 'red'}, \n",
    "               'FoxNews': \n",
    "                   {'name': 'Fox', \n",
    "                    'color': 'blue'},\n",
    "               'nytimes': \n",
    "                   {'name': 'New York Times', \n",
    "                    'color': 'yellow'} }"
   ]
  },
  {
   "cell_type": "code",
   "execution_count": 7,
   "metadata": {
    "collapsed": true
   },
   "outputs": [],
   "source": [
    "news_dict = {\n",
    "    \"Screen Name\": [],\n",
    "    \"Tweet\": [],\n",
    "    \"Date\": [],\n",
    "    \"Compound Score\": [],\n",
    "    \"Positive Score\": [],\n",
    "    \"Negative Score\": [],\n",
    "    \"Neutral Score\": [],\n",
    "    \"Tweets Ago\": []\n",
    "}"
   ]
  },
  {
   "cell_type": "code",
   "execution_count": 8,
   "metadata": {
    "collapsed": true
   },
   "outputs": [],
   "source": [
    "# loop through SNs in dictionary\n",
    "for news_org in news_labels.keys():\n",
    "    tweets_ago = 1\n",
    "    for x in range(5): \n",
    "        if x == 0:\n",
    "            response = api.user_timeline(news_org, count = 20)\n",
    "        else:\n",
    "            response = api.user_timeline(news_org, max_id = end_id-1 , count = 20)\n",
    "        for tweet in response: \n",
    "            text = tweet['text']\n",
    "            date = tweet['created_at']\n",
    "            convert_date = datetime.strptime(date, \"%a %b %d %H:%M:%S %z %Y\") \n",
    "            user = tweet['user']['screen_name'] \n",
    "            end_id = tweet['id'] \n",
    "            scores = analyzer.polarity_scores(text) \n",
    "            news_dict['Screen Name'].append(user)\n",
    "            news_dict['Tweet'].append(text)\n",
    "            news_dict['Date'].append(convert_date) \n",
    "            news_dict['Compound Score'].append(scores['compound']) \n",
    "            news_dict['Positive Score'].append(scores['pos'])\n",
    "            news_dict['Negative Score'].append(scores['neg'])\n",
    "            news_dict['Neutral Score'].append(scores['neu'])\n",
    "            news_dict['Tweets Ago'].append(tweets_ago)\n",
    "            tweets_ago = tweets_ago + 1 "
   ]
  },
  {
   "cell_type": "code",
   "execution_count": 9,
   "metadata": {},
   "outputs": [
    {
     "data": {
      "text/html": [
       "<div>\n",
       "<style>\n",
       "    .dataframe thead tr:only-child th {\n",
       "        text-align: right;\n",
       "    }\n",
       "\n",
       "    .dataframe thead th {\n",
       "        text-align: left;\n",
       "    }\n",
       "\n",
       "    .dataframe tbody tr th {\n",
       "        vertical-align: top;\n",
       "    }\n",
       "</style>\n",
       "<table border=\"1\" class=\"dataframe\">\n",
       "  <thead>\n",
       "    <tr style=\"text-align: right;\">\n",
       "      <th></th>\n",
       "      <th>Compound Score</th>\n",
       "      <th>Date</th>\n",
       "      <th>Negative Score</th>\n",
       "      <th>Neutral Score</th>\n",
       "      <th>Positive Score</th>\n",
       "      <th>Screen Name</th>\n",
       "      <th>Tweet</th>\n",
       "      <th>Tweets Ago</th>\n",
       "    </tr>\n",
       "  </thead>\n",
       "  <tbody>\n",
       "    <tr>\n",
       "      <th>0</th>\n",
       "      <td>0.2960</td>\n",
       "      <td>2018-01-08 21:29:44+00:00</td>\n",
       "      <td>0.000</td>\n",
       "      <td>0.905</td>\n",
       "      <td>0.095</td>\n",
       "      <td>BBC</td>\n",
       "      <td>RT @bbc5live: Looking for some exercise and nu...</td>\n",
       "      <td>1</td>\n",
       "    </tr>\n",
       "    <tr>\n",
       "      <th>1</th>\n",
       "      <td>0.0000</td>\n",
       "      <td>2018-01-08 21:29:01+00:00</td>\n",
       "      <td>0.000</td>\n",
       "      <td>1.000</td>\n",
       "      <td>0.000</td>\n",
       "      <td>BBC</td>\n",
       "      <td>RT @bbcasiannetwork: 📡 The Asian Network Futur...</td>\n",
       "      <td>2</td>\n",
       "    </tr>\n",
       "    <tr>\n",
       "      <th>2</th>\n",
       "      <td>-0.1655</td>\n",
       "      <td>2018-01-08 21:28:07+00:00</td>\n",
       "      <td>0.099</td>\n",
       "      <td>0.831</td>\n",
       "      <td>0.069</td>\n",
       "      <td>BBC</td>\n",
       "      <td>RT @bbcthesocial: Jordan thought nobody would ...</td>\n",
       "      <td>3</td>\n",
       "    </tr>\n",
       "    <tr>\n",
       "      <th>3</th>\n",
       "      <td>0.3182</td>\n",
       "      <td>2018-01-08 21:27:12+00:00</td>\n",
       "      <td>0.000</td>\n",
       "      <td>0.905</td>\n",
       "      <td>0.095</td>\n",
       "      <td>BBC</td>\n",
       "      <td>RT @bbcworldservice: \"Our job as journalists i...</td>\n",
       "      <td>4</td>\n",
       "    </tr>\n",
       "    <tr>\n",
       "      <th>4</th>\n",
       "      <td>-0.2500</td>\n",
       "      <td>2018-01-08 21:23:06+00:00</td>\n",
       "      <td>0.118</td>\n",
       "      <td>0.882</td>\n",
       "      <td>0.000</td>\n",
       "      <td>BBC</td>\n",
       "      <td>RT @BBCiPlayer: 🎁 #HardSun is the new #boxset ...</td>\n",
       "      <td>5</td>\n",
       "    </tr>\n",
       "  </tbody>\n",
       "</table>\n",
       "</div>"
      ],
      "text/plain": [
       "   Compound Score                      Date  Negative Score  Neutral Score  \\\n",
       "0          0.2960 2018-01-08 21:29:44+00:00           0.000          0.905   \n",
       "1          0.0000 2018-01-08 21:29:01+00:00           0.000          1.000   \n",
       "2         -0.1655 2018-01-08 21:28:07+00:00           0.099          0.831   \n",
       "3          0.3182 2018-01-08 21:27:12+00:00           0.000          0.905   \n",
       "4         -0.2500 2018-01-08 21:23:06+00:00           0.118          0.882   \n",
       "\n",
       "   Positive Score Screen Name  \\\n",
       "0           0.095         BBC   \n",
       "1           0.000         BBC   \n",
       "2           0.069         BBC   \n",
       "3           0.095         BBC   \n",
       "4           0.000         BBC   \n",
       "\n",
       "                                               Tweet  Tweets Ago  \n",
       "0  RT @bbc5live: Looking for some exercise and nu...           1  \n",
       "1  RT @bbcasiannetwork: 📡 The Asian Network Futur...           2  \n",
       "2  RT @bbcthesocial: Jordan thought nobody would ...           3  \n",
       "3  RT @bbcworldservice: \"Our job as journalists i...           4  \n",
       "4  RT @BBCiPlayer: 🎁 #HardSun is the new #boxset ...           5  "
      ]
     },
     "execution_count": 9,
     "metadata": {},
     "output_type": "execute_result"
    }
   ],
   "source": [
    "#converts to dataframe\n",
    "news_df = pd.DataFrame(news_dict)\n",
    "news_df.head()"
   ]
  },
  {
   "cell_type": "code",
   "execution_count": 10,
   "metadata": {},
   "outputs": [],
   "source": [
    "news_df.to_csv('output/news_analysis.csv')"
   ]
  },
  {
   "cell_type": "code",
   "execution_count": 11,
   "metadata": {},
   "outputs": [
    {
     "data": {
      "text/html": [
       "<div>\n",
       "<style>\n",
       "    .dataframe thead tr:only-child th {\n",
       "        text-align: right;\n",
       "    }\n",
       "\n",
       "    .dataframe thead th {\n",
       "        text-align: left;\n",
       "    }\n",
       "\n",
       "    .dataframe tbody tr th {\n",
       "        vertical-align: top;\n",
       "    }\n",
       "</style>\n",
       "<table border=\"1\" class=\"dataframe\">\n",
       "  <thead>\n",
       "    <tr style=\"text-align: right;\">\n",
       "      <th></th>\n",
       "      <th>Negative Compound Scores</th>\n",
       "      <th>Neutral Compound Scores</th>\n",
       "      <th>Positive Compound Scores</th>\n",
       "      <th>Total</th>\n",
       "    </tr>\n",
       "    <tr>\n",
       "      <th>Screen Name</th>\n",
       "      <th></th>\n",
       "      <th></th>\n",
       "      <th></th>\n",
       "      <th></th>\n",
       "    </tr>\n",
       "  </thead>\n",
       "  <tbody>\n",
       "    <tr>\n",
       "      <th>BBC</th>\n",
       "      <td>18</td>\n",
       "      <td>46</td>\n",
       "      <td>36</td>\n",
       "      <td>100</td>\n",
       "    </tr>\n",
       "    <tr>\n",
       "      <th>CBS</th>\n",
       "      <td>8</td>\n",
       "      <td>27</td>\n",
       "      <td>65</td>\n",
       "      <td>100</td>\n",
       "    </tr>\n",
       "    <tr>\n",
       "      <th>CNN</th>\n",
       "      <td>20</td>\n",
       "      <td>44</td>\n",
       "      <td>36</td>\n",
       "      <td>100</td>\n",
       "    </tr>\n",
       "    <tr>\n",
       "      <th>FoxNews</th>\n",
       "      <td>32</td>\n",
       "      <td>32</td>\n",
       "      <td>36</td>\n",
       "      <td>100</td>\n",
       "    </tr>\n",
       "    <tr>\n",
       "      <th>nytimes</th>\n",
       "      <td>30</td>\n",
       "      <td>41</td>\n",
       "      <td>29</td>\n",
       "      <td>100</td>\n",
       "    </tr>\n",
       "  </tbody>\n",
       "</table>\n",
       "</div>"
      ],
      "text/plain": [
       "             Negative Compound Scores  Neutral Compound Scores  \\\n",
       "Screen Name                                                      \n",
       "BBC                                18                       46   \n",
       "CBS                                 8                       27   \n",
       "CNN                                20                       44   \n",
       "FoxNews                            32                       32   \n",
       "nytimes                            30                       41   \n",
       "\n",
       "             Positive Compound Scores  Total  \n",
       "Screen Name                                   \n",
       "BBC                                36    100  \n",
       "CBS                                65    100  \n",
       "CNN                                36    100  \n",
       "FoxNews                            36    100  \n",
       "nytimes                            29    100  "
      ]
     },
     "execution_count": 11,
     "metadata": {},
     "output_type": "execute_result"
    }
   ],
   "source": [
    "#group the dataframe values by network name \n",
    "by_org = news_df.groupby('Screen Name')\n",
    "\n",
    "pos_count = news_df[news_df['Compound Score'] > 0].groupby('Screen Name')['Compound Score'].count()\n",
    "neg_count = news_df[news_df['Compound Score'] < 0].groupby('Screen Name')['Compound Score'].count()\n",
    "neu_count = news_df[news_df['Compound Score'] == 0].groupby('Screen Name')['Compound Score'].count()\n",
    "\n",
    "polarity_df = pd.DataFrame({\n",
    "    \"Positive Compound Scores\": pos_count,\n",
    "    \"Negative Compound Scores\": neg_count,\n",
    "    \"Neutral Compound Scores\": neu_count,\n",
    "    \"Total\": pos_count + neg_count + neu_count\n",
    "})\n",
    "polarity_df"
   ]
  },
  {
   "cell_type": "code",
   "execution_count": 12,
   "metadata": {},
   "outputs": [
    {
     "data": {
      "text/html": [
       "<div>\n",
       "<style>\n",
       "    .dataframe thead tr:only-child th {\n",
       "        text-align: right;\n",
       "    }\n",
       "\n",
       "    .dataframe thead th {\n",
       "        text-align: left;\n",
       "    }\n",
       "\n",
       "    .dataframe tbody tr th {\n",
       "        vertical-align: top;\n",
       "    }\n",
       "</style>\n",
       "<table border=\"1\" class=\"dataframe\">\n",
       "  <thead>\n",
       "    <tr style=\"text-align: right;\">\n",
       "      <th></th>\n",
       "      <th>Total</th>\n",
       "      <th>Total Negative</th>\n",
       "      <th>Total Neutral</th>\n",
       "      <th>Total Positive</th>\n",
       "    </tr>\n",
       "  </thead>\n",
       "  <tbody>\n",
       "    <tr>\n",
       "      <th>0</th>\n",
       "      <td>500</td>\n",
       "      <td>108</td>\n",
       "      <td>108</td>\n",
       "      <td>202</td>\n",
       "    </tr>\n",
       "  </tbody>\n",
       "</table>\n",
       "</div>"
      ],
      "text/plain": [
       "   Total  Total Negative  Total Neutral  Total Positive\n",
       "0    500             108            108             202"
      ]
     },
     "execution_count": 12,
     "metadata": {},
     "output_type": "execute_result"
    }
   ],
   "source": [
    "neg_sum = polarity_df['Negative Compound Scores'].sum()\n",
    "neu_sum = polarity_df['Neutral Compound Scores'].sum()\n",
    "pos_sum = polarity_df['Positive Compound Scores'].sum()\n",
    "total = neg_sum + pos_sum + neu_sum\n",
    "\n",
    "totals_df = pd.DataFrame({\n",
    "    \"Total Negative\": [neg_sum],\n",
    "    \"Total Positive\": pos_sum,\n",
    "    \"Total Neutral\": neg_sum,\n",
    "    \"Total\": total\n",
    "})\n",
    "\n",
    "totals_df"
   ]
  },
  {
   "cell_type": "code",
   "execution_count": 13,
   "metadata": {},
   "outputs": [
    {
     "data": {
      "text/html": [
       "<div>\n",
       "<style>\n",
       "    .dataframe thead tr:only-child th {\n",
       "        text-align: right;\n",
       "    }\n",
       "\n",
       "    .dataframe thead th {\n",
       "        text-align: left;\n",
       "    }\n",
       "\n",
       "    .dataframe tbody tr th {\n",
       "        vertical-align: top;\n",
       "    }\n",
       "</style>\n",
       "<table border=\"1\" class=\"dataframe\">\n",
       "  <thead>\n",
       "    <tr style=\"text-align: right;\">\n",
       "      <th></th>\n",
       "      <th>Average Time Between Tweets</th>\n",
       "      <th>Time Span Between 1 and 100 Tweets Ago</th>\n",
       "    </tr>\n",
       "    <tr>\n",
       "      <th>Screen Name</th>\n",
       "      <th></th>\n",
       "      <th></th>\n",
       "    </tr>\n",
       "  </thead>\n",
       "  <tbody>\n",
       "    <tr>\n",
       "      <th>BBC</th>\n",
       "      <td>00:30:17.200000</td>\n",
       "      <td>2 days 02:28:40</td>\n",
       "    </tr>\n",
       "    <tr>\n",
       "      <th>CBS</th>\n",
       "      <td>06:54:47.510000</td>\n",
       "      <td>28 days 19:19:11</td>\n",
       "    </tr>\n",
       "    <tr>\n",
       "      <th>CNN</th>\n",
       "      <td>00:07:51.860000</td>\n",
       "      <td>0 days 13:06:26</td>\n",
       "    </tr>\n",
       "    <tr>\n",
       "      <th>FoxNews</th>\n",
       "      <td>00:04:52.280000</td>\n",
       "      <td>0 days 08:07:08</td>\n",
       "    </tr>\n",
       "    <tr>\n",
       "      <th>nytimes</th>\n",
       "      <td>00:12:25.160000</td>\n",
       "      <td>0 days 20:41:56</td>\n",
       "    </tr>\n",
       "  </tbody>\n",
       "</table>\n",
       "</div>"
      ],
      "text/plain": [
       "            Average Time Between Tweets Time Span Between 1 and 100 Tweets Ago\n",
       "Screen Name                                                                   \n",
       "BBC                     00:30:17.200000                        2 days 02:28:40\n",
       "CBS                     06:54:47.510000                       28 days 19:19:11\n",
       "CNN                     00:07:51.860000                        0 days 13:06:26\n",
       "FoxNews                 00:04:52.280000                        0 days 08:07:08\n",
       "nytimes                 00:12:25.160000                        0 days 20:41:56"
      ]
     },
     "execution_count": 13,
     "metadata": {},
     "output_type": "execute_result"
    }
   ],
   "source": [
    "time_max = by_org['Date'].max()\n",
    "time_min = by_org['Date'].min()\n",
    "time_diff = time_max - time_min\n",
    "time_diff\n",
    "\n",
    "avg_time_bt_tweets = time_diff/100\n",
    "time_df = pd.DataFrame({\n",
    "    \"Time Span Between 1 and 100 Tweets Ago\": time_diff,\n",
    "    \"Average Time Between Tweets\": avg_time_bt_tweets\n",
    "})\n",
    "\n",
    "time_df"
   ]
  },
  {
   "cell_type": "code",
   "execution_count": 14,
   "metadata": {
    "collapsed": true
   },
   "outputs": [],
   "source": [
    "#finds date of most recent and least recent tweet\n",
    "date_max = news_df['Date'].max().replace(tzinfo=timezone.utc).astimezone(tz = 'America/Los_Angeles').strftime('%D: %r')\n",
    "date_min = date_min = news_df['Date'].min().replace(tzinfo=timezone.utc).astimezone(tz = 'America/Los_Angeles').strftime('%D: %r')"
   ]
  },
  {
   "cell_type": "code",
   "execution_count": 18,
   "metadata": {},
   "outputs": [
    {
     "data": {
      "image/png": "[encoded data removed]",
      "text/plain": [
       "<matplotlib.figure.Figure at 0x10d656eb8>"
      ]
     },
     "metadata": {},
     "output_type": "display_data"
    }
   ],
   "source": [
    "#plots scatter of news organizations in dictionary\n",
    "\n",
    "plt.xlim(102,-2, -1)\n",
    "plt.ylim(-1,1)\n",
    "plt.title('Sentiment Analysis of Media Tweets %s' % (date_max), fontdict = {'fontsize': 12})\n",
    "\n",
    "for news_org in news_labels.keys():\n",
    "    df = news_df[news_df['Screen Name'] == news_org]\n",
    "    yvals = df['Compound Score']\n",
    "    xvals = df['Tweets Ago']\n",
    "    labels = news_labels[news_org]['name']\n",
    "    colors = news_labels[news_org]['color'] \n",
    "    plt.scatter(xvals,yvals, label = labels, s = 125, color = colors, edgecolor = 'black')\n",
    "    \n",
    "plt.legend(bbox_to_anchor = (1,1),\n",
    "           frameon = True, \n",
    "           edgecolor = 'black', \n",
    "           facecolor = 'white',\n",
    "           title = \"News Organization\")\n",
    "plt.xlabel('Tweets Ago',\n",
    "          fontdict = {'fontsize': 12})\n",
    "plt.ylabel('Tweet Polarity',\n",
    "          fontdict = {'fontsize': 12})\n",
    "plt.savefig('output/tweets_scatter.png', bbox_inches = 'tight')\n",
    "plt.show()"
   ]
  },
  {
   "cell_type": "code",
   "execution_count": 19,
   "metadata": {
    "scrolled": true
   },
   "outputs": [
    {
     "data": {
      "text/plain": [
       "Screen Name\n",
       "BBC        0.091436\n",
       "CBS        0.378797\n",
       "CNN        0.072377\n",
       "FoxNews    0.009852\n",
       "nytimes    0.003912\n",
       "Name: Compound Score, dtype: float64"
      ]
     },
     "execution_count": 19,
     "metadata": {},
     "output_type": "execute_result"
    }
   ],
   "source": [
    "# group by SN and find average of each group\n",
    "scores_by_org = news_df.groupby('Screen Name')['Compound Score'].mean()\n",
    "scores_by_org.head()"
   ]
  },
  {
   "cell_type": "code",
   "execution_count": 20,
   "metadata": {},
   "outputs": [
    {
     "data": {
      "image/png": "[encoded data removed]",
      "text/plain": [
       "<matplotlib.figure.Figure at 0x109b65c88>"
      ]
     },
     "metadata": {},
     "output_type": "display_data"
    }
   ],
   "source": [
    "\n",
    "# bar chart of mean scores labels\n",
    "plt.title('Overall Media Sentiment based on Twitter %s' % (date_max))\n",
    "plt.xlabel('News Organization')\n",
    "plt.ylabel('Tweet Polarity')\n",
    "\n",
    "xlabels = scores_by_org.index\n",
    "xvals = np.arange(len(scores_by_org))\n",
    "count = 0 \n",
    "\n",
    "#create each value label\n",
    "for score in scores_by_org: \n",
    "    if score < 0: \n",
    "        height = score - .01\n",
    "    else: \n",
    "        height = score + .01\n",
    "    plt.text(count, height, str(round(score, 2)), ha = 'center', va = 'center')\n",
    "    count = count + 1\n",
    "plt.bar(xvals, \n",
    "        scores_by_org, \n",
    "        color = [news_labels[x]['color'] for x in xlabels], \n",
    "        tick_label = [news_labels[x]['name'] for x in xlabels]) \n",
    "plt.savefig('output/average_scores.png')\n",
    "plt.show()"
   ]
  },
  {
   "cell_type": "code",
   "execution_count": null,
   "metadata": {
    "collapsed": true
   },
   "outputs": [],
   "source": []
  }
 ],
 "metadata": {
  "kernelspec": {
   "display_name": "Python 3",
   "language": "python",
   "name": "python3"
  },
  "language_info": {
   "codemirror_mode": {
    "name": "ipython",
    "version": 3
   },
   "file_extension": ".py",
   "mimetype": "text/x-python",
   "name": "python",
   "nbconvert_exporter": "python",
   "pygments_lexer": "ipython3",
   "version": "3.6.3"
  }
 },
 "nbformat": 4,
 "nbformat_minor": 2
}
